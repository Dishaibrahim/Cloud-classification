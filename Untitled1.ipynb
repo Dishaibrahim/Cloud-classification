{
 "cells": [
  {
   "cell_type": "code",
   "execution_count": 2,
   "id": "2f9cf50d",
   "metadata": {},
   "outputs": [],
   "source": [
    "import os\n",
    "import random\n",
    "import numpy as np\n",
    "import cv2\n",
    "import matplotlib.pyplot as plt\n",
    "from sklearn.model_selection import train_test_split\n",
    "from keras.utils import to_categorical\n",
    "from keras.preprocessing.image import ImageDataGenerator\n",
    "from keras.models import Sequential\n",
    "from keras.layers import Conv2D, MaxPooling2D, Flatten, Dropout, Dense\n",
    "from keras.optimizers import Adam\n",
    "from keras.callbacks import EarlyStopping, ReduceLROnPlateau\n",
    "\n"
   ]
  },
  {
   "cell_type": "code",
   "execution_count": 3,
   "id": "8df55501",
   "metadata": {},
   "outputs": [],
   "source": [
    "random.seed(42)\n",
    "np.random.seed(42)\n"
   ]
  },
  {
   "cell_type": "code",
   "execution_count": 4,
   "id": "eac0c474",
   "metadata": {},
   "outputs": [],
   "source": [
    "# Define the paths to your dataset\n",
    "train_As = '/Users/dishaibrahim/Desktop/clod/clouddat/As'\n",
    "train_Cc = '/Users/dishaibrahim/Desktop/clod/clouddat/Cc'\n",
    "train_Ci = '/Users/dishaibrahim/Desktop/clod/clouddat/Ci'\n",
    "train_Ns = '/Users/dishaibrahim/Desktop/clod/clouddat/Ns'\n",
    "test_dir = '/Users/dishaibrahim/Desktop/clod/clouddat/test'"
   ]
  },
  {
   "cell_type": "code",
   "execution_count": 5,
   "id": "b684c021",
   "metadata": {},
   "outputs": [],
   "source": [
    "def process_image(image_list):\n",
    "    X = []\n",
    "    Y = []\n",
    "    for image in image_list:\n",
    "        try:\n",
    "            img = cv2.imread(image, cv2.IMREAD_COLOR)\n",
    "            img = cv2.resize(img, (150, 150))\n",
    "            X.append(img)\n",
    "            if 'As' in image:\n",
    "                Y.append(0)\n",
    "            elif 'Cc' in image:\n",
    "                Y.append(1)\n",
    "            elif 'Ci' in image:\n",
    "                Y.append(2)\n",
    "            elif 'Ns' in image:\n",
    "                Y.append(3)\n",
    "        except Exception as e:\n",
    "            print(f\"Error processing image {image}: {str(e)}\")\n",
    "    return X, Y"
   ]
  },
  {
   "cell_type": "code",
   "execution_count": 6,
   "id": "ff225f30",
   "metadata": {},
   "outputs": [],
   "source": [
    "# Load and process the training images\n",
    "train_imgs = []\n",
    "train_labels = []\n",
    "for category, path in [('As', train_As), ('Cc', train_Cc), ('Ci', train_Ci), ('Ns', train_Ns)]:\n",
    "    for file in os.listdir(path):\n",
    "        train_imgs.append(os.path.join(path, file))\n",
    "        train_labels.append(category)\n"
   ]
  },
  {
   "cell_type": "code",
   "execution_count": 7,
   "id": "31e8338f",
   "metadata": {},
   "outputs": [],
   "source": [
    "# Shuffle the training data\n",
    "combined = list(zip(train_imgs, train_labels))\n",
    "random.shuffle(combined)\n",
    "train_imgs, train_labels = zip(*combined)\n"
   ]
  },
  {
   "cell_type": "code",
   "execution_count": 8,
   "id": "7479831a",
   "metadata": {},
   "outputs": [
    {
     "name": "stdout",
     "output_type": "stream",
     "text": [
      "Error processing image /Users/dishaibrahim/Desktop/clod/clouddat/Cc/.DS_Store: OpenCV(4.8.0) /Users/xperience/GHA-OpenCV-Python/_work/opencv-python/opencv-python/opencv/modules/imgproc/src/resize.cpp:4062: error: (-215:Assertion failed) !ssize.empty() in function 'resize'\n",
      "\n",
      "Error processing image /Users/dishaibrahim/Desktop/clod/clouddat/Ci/.DS_Store: OpenCV(4.8.0) /Users/xperience/GHA-OpenCV-Python/_work/opencv-python/opencv-python/opencv/modules/imgproc/src/resize.cpp:4062: error: (-215:Assertion failed) !ssize.empty() in function 'resize'\n",
      "\n",
      "Error processing image /Users/dishaibrahim/Desktop/clod/clouddat/As/.DS_Store: OpenCV(4.8.0) /Users/xperience/GHA-OpenCV-Python/_work/opencv-python/opencv-python/opencv/modules/imgproc/src/resize.cpp:4062: error: (-215:Assertion failed) !ssize.empty() in function 'resize'\n",
      "\n"
     ]
    }
   ],
   "source": [
    "# Process the training images\n",
    "X, Y = process_image(train_imgs)\n"
   ]
  },
  {
   "cell_type": "code",
   "execution_count": 9,
   "id": "60146957",
   "metadata": {},
   "outputs": [],
   "source": [
    "# Convert labels to categorical\n",
    "Y = to_categorical(Y)\n",
    "\n",
    "# Split the data into training and validation sets\n",
    "X_train, X_val, y_train, y_val = train_test_split(X, Y, test_size=0.1, random_state=42)\n"
   ]
  },
  {
   "cell_type": "code",
   "execution_count": 10,
   "id": "df99a6d5",
   "metadata": {},
   "outputs": [],
   "source": [
    "# Define the model\n",
    "model = Sequential()\n",
    "model.add(Conv2D(32, (3, 3), activation='relu', input_shape=(150, 150, 3)))\n",
    "model.add(MaxPooling2D((2, 2)))\n",
    "model.add(Conv2D(64, (3, 3), activation='relu'))\n",
    "model.add(MaxPooling2D((2, 2)))\n",
    "model.add(Conv2D(128, (3, 3), activation='relu'))\n",
    "model.add(MaxPooling2D((2, 2)))\n",
    "model.add(Flatten())\n",
    "model.add(Dense(512, activation='relu'))\n",
    "model.add(Dense(4, activation='softmax'))\n"
   ]
  },
  {
   "cell_type": "code",
   "execution_count": 11,
   "id": "63657cc6",
   "metadata": {},
   "outputs": [
    {
     "name": "stderr",
     "output_type": "stream",
     "text": [
      "/Users/dishaibrahim/anaconda3/lib/python3.10/site-packages/keras/optimizers/optimizer_v2/adam.py:114: UserWarning: The `lr` argument is deprecated, use `learning_rate` instead.\n",
      "  super().__init__(name, **kwargs)\n"
     ]
    }
   ],
   "source": [
    "# Compile the model\n",
    "model.compile(loss='categorical_crossentropy', optimizer=Adam(lr=0.001), metrics=['accuracy'])\n",
    "\n",
    "# Define the data generators for augmentation and normalization\n",
    "train_datagen = ImageDataGenerator(\n",
    "    rescale=1./255,\n",
    "    rotation_range=30,\n",
    "    width_shift_range=0.2,\n",
    "    height_shift_range=0.2,\n",
    "    shear_range=0.2,\n",
    "    zoom_range=0.2,\n",
    "    horizontal_flip=True\n",
    ")\n",
    "val_datagen = ImageDataGenerator(rescale=1./255)\n",
    "\n"
   ]
  },
  {
   "cell_type": "code",
   "execution_count": 12,
   "id": "4b41e4d0",
   "metadata": {},
   "outputs": [],
   "source": [
    "# Create the data generators\n",
    "batch_size =32 \n",
    "train_generator = train_datagen.flow(np.array(X_train), y_train, batch_size=batch_size, shuffle=True)\n",
    "val_generator = val_datagen.flow(np.array(X_val), y_val, batch_size=batch_size, shuffle=False)\n",
    "\n"
   ]
  },
  {
   "cell_type": "code",
   "execution_count": 13,
   "id": "8e754cbd",
   "metadata": {},
   "outputs": [],
   "source": [
    "# Define callbacks\n",
    "early_stopping = EarlyStopping(patience=5, restore_best_weights=True)\n",
    "reduce_lr = ReduceLROnPlateau(factor=0.5, patience=3, min_lr=1e-7)\n"
   ]
  },
  {
   "cell_type": "code",
   "execution_count": 14,
   "id": "1f989843",
   "metadata": {},
   "outputs": [
    {
     "name": "stdout",
     "output_type": "stream",
     "text": [
      "Epoch 1/40\n"
     ]
    },
    {
     "name": "stderr",
     "output_type": "stream",
     "text": [
      "2023-07-18 22:45:34.834681: W tensorflow/core/platform/profile_utils/cpu_utils.cc:128] Failed to get CPU frequency: 0 Hz\n"
     ]
    },
    {
     "name": "stdout",
     "output_type": "stream",
     "text": [
      "42/42 [==============================] - 13s 294ms/step - loss: 1.4263 - accuracy: 0.3987 - val_loss: 1.1498 - val_accuracy: 0.4297 - lr: 0.0010\n",
      "Epoch 2/40\n",
      "42/42 [==============================] - 12s 290ms/step - loss: 1.1473 - accuracy: 0.4680 - val_loss: 1.0427 - val_accuracy: 0.5938 - lr: 0.0010\n",
      "Epoch 3/40\n",
      "42/42 [==============================] - 12s 287ms/step - loss: 1.0733 - accuracy: 0.5276 - val_loss: 0.8433 - val_accuracy: 0.6328 - lr: 0.0010\n",
      "Epoch 4/40\n",
      "42/42 [==============================] - 12s 286ms/step - loss: 0.9643 - accuracy: 0.5976 - val_loss: 0.6828 - val_accuracy: 0.6719 - lr: 0.0010\n",
      "Epoch 5/40\n",
      "42/42 [==============================] - 13s 297ms/step - loss: 0.8869 - accuracy: 0.6267 - val_loss: 0.4251 - val_accuracy: 0.8438 - lr: 0.0010\n",
      "Epoch 6/40\n",
      "42/42 [==============================] - 12s 288ms/step - loss: 0.8728 - accuracy: 0.6289 - val_loss: 0.4642 - val_accuracy: 0.7891 - lr: 0.0010\n",
      "Epoch 7/40\n",
      "42/42 [==============================] - 13s 303ms/step - loss: 0.8195 - accuracy: 0.6431 - val_loss: 0.4386 - val_accuracy: 0.8281 - lr: 0.0010\n",
      "Epoch 8/40\n",
      "42/42 [==============================] - 12s 289ms/step - loss: 0.7665 - accuracy: 0.6818 - val_loss: 0.5997 - val_accuracy: 0.7578 - lr: 0.0010\n",
      "Epoch 9/40\n",
      "42/42 [==============================] - 12s 287ms/step - loss: 0.7359 - accuracy: 0.7064 - val_loss: 0.3469 - val_accuracy: 0.8672 - lr: 5.0000e-04\n",
      "Epoch 10/40\n",
      "42/42 [==============================] - 12s 290ms/step - loss: 0.6833 - accuracy: 0.7258 - val_loss: 0.3298 - val_accuracy: 0.9062 - lr: 5.0000e-04\n",
      "Epoch 11/40\n",
      "42/42 [==============================] - 12s 289ms/step - loss: 0.6573 - accuracy: 0.7303 - val_loss: 0.3174 - val_accuracy: 0.8672 - lr: 5.0000e-04\n",
      "Epoch 12/40\n",
      "42/42 [==============================] - 12s 289ms/step - loss: 0.6789 - accuracy: 0.7206 - val_loss: 0.3342 - val_accuracy: 0.8906 - lr: 5.0000e-04\n",
      "Epoch 13/40\n",
      "42/42 [==============================] - 12s 286ms/step - loss: 0.6404 - accuracy: 0.7407 - val_loss: 0.3374 - val_accuracy: 0.8828 - lr: 5.0000e-04\n",
      "Epoch 14/40\n",
      "42/42 [==============================] - 12s 291ms/step - loss: 0.6210 - accuracy: 0.7515 - val_loss: 0.3006 - val_accuracy: 0.9141 - lr: 5.0000e-04\n",
      "Epoch 15/40\n",
      "42/42 [==============================] - 12s 289ms/step - loss: 0.6454 - accuracy: 0.7481 - val_loss: 0.2652 - val_accuracy: 0.9141 - lr: 5.0000e-04\n",
      "Epoch 16/40\n",
      "42/42 [==============================] - 12s 285ms/step - loss: 0.6141 - accuracy: 0.7511 - val_loss: 0.2816 - val_accuracy: 0.9297 - lr: 5.0000e-04\n",
      "Epoch 17/40\n",
      "42/42 [==============================] - 11s 254ms/step - loss: 0.6406 - accuracy: 0.7452 - val_loss: 0.2815 - val_accuracy: 0.9141 - lr: 5.0000e-04\n",
      "Epoch 18/40\n",
      "42/42 [==============================] - 11s 255ms/step - loss: 0.6171 - accuracy: 0.7496 - val_loss: 0.2563 - val_accuracy: 0.9062 - lr: 5.0000e-04\n",
      "Epoch 19/40\n",
      "42/42 [==============================] - 11s 256ms/step - loss: 0.5977 - accuracy: 0.7615 - val_loss: 0.2991 - val_accuracy: 0.8828 - lr: 5.0000e-04\n",
      "Epoch 20/40\n",
      "42/42 [==============================] - 11s 251ms/step - loss: 0.5746 - accuracy: 0.7601 - val_loss: 0.3523 - val_accuracy: 0.8750 - lr: 5.0000e-04\n",
      "Epoch 21/40\n",
      "42/42 [==============================] - 11s 256ms/step - loss: 0.5996 - accuracy: 0.7563 - val_loss: 0.2235 - val_accuracy: 0.9062 - lr: 5.0000e-04\n",
      "Epoch 22/40\n",
      "42/42 [==============================] - 11s 257ms/step - loss: 0.5867 - accuracy: 0.7552 - val_loss: 0.2871 - val_accuracy: 0.8906 - lr: 5.0000e-04\n",
      "Epoch 23/40\n",
      "42/42 [==============================] - 11s 254ms/step - loss: 0.6149 - accuracy: 0.7578 - val_loss: 0.2769 - val_accuracy: 0.9062 - lr: 5.0000e-04\n",
      "Epoch 24/40\n",
      "42/42 [==============================] - 11s 258ms/step - loss: 0.5773 - accuracy: 0.7556 - val_loss: 0.2096 - val_accuracy: 0.9375 - lr: 5.0000e-04\n",
      "Epoch 25/40\n",
      "42/42 [==============================] - 11s 259ms/step - loss: 0.5602 - accuracy: 0.7787 - val_loss: 0.2927 - val_accuracy: 0.8750 - lr: 5.0000e-04\n",
      "Epoch 26/40\n",
      "42/42 [==============================] - 11s 256ms/step - loss: 0.5863 - accuracy: 0.7705 - val_loss: 0.1783 - val_accuracy: 0.9609 - lr: 5.0000e-04\n",
      "Epoch 27/40\n",
      "42/42 [==============================] - 11s 256ms/step - loss: 0.5630 - accuracy: 0.7712 - val_loss: 0.3219 - val_accuracy: 0.8594 - lr: 5.0000e-04\n",
      "Epoch 28/40\n",
      "42/42 [==============================] - 11s 260ms/step - loss: 0.5824 - accuracy: 0.7623 - val_loss: 0.2566 - val_accuracy: 0.8984 - lr: 5.0000e-04\n",
      "Epoch 29/40\n",
      "42/42 [==============================] - 11s 255ms/step - loss: 0.5740 - accuracy: 0.7697 - val_loss: 0.2203 - val_accuracy: 0.9453 - lr: 5.0000e-04\n",
      "Epoch 30/40\n",
      "42/42 [==============================] - 11s 256ms/step - loss: 0.5413 - accuracy: 0.7757 - val_loss: 0.2390 - val_accuracy: 0.9062 - lr: 2.5000e-04\n",
      "Epoch 31/40\n",
      "42/42 [==============================] - 11s 268ms/step - loss: 0.5318 - accuracy: 0.7861 - val_loss: 0.2093 - val_accuracy: 0.9375 - lr: 2.5000e-04\n"
     ]
    }
   ],
   "source": [
    "history = model.fit(\n",
    "    train_generator,\n",
    "    steps_per_epoch=len(X_train) // batch_size,\n",
    "    epochs=40,  # Change the number of epochs to 100\n",
    "    validation_data=val_generator,\n",
    "    validation_steps=len(X_val) // batch_size,\n",
    "    callbacks=[early_stopping, reduce_lr]\n",
    ")\n",
    "\n"
   ]
  },
  {
   "cell_type": "code",
   "execution_count": 15,
   "id": "d218ff80",
   "metadata": {},
   "outputs": [],
   "source": [
    "# Save the model\n",
    "model.save('modelnew_keras.h5')\n"
   ]
  },
  {
   "cell_type": "code",
   "execution_count": 16,
   "id": "ade683b5",
   "metadata": {},
   "outputs": [
    {
     "data": {
      "image/png": "[encoded data removed]",
      "text/plain": [
       "<Figure size 640x480 with 1 Axes>"
      ]
     },
     "metadata": {},
     "output_type": "display_data"
    }
   ],
   "source": [
    "plt.plot(history.history['accuracy'], label='Training Accuracy')\n",
    "plt.plot(history.history['val_accuracy'], label='Validation Accuracy')\n",
    "plt.title('Training and Validation Accuracy')\n",
    "plt.xlabel('Epoch')\n",
    "plt.ylabel('Accuracy')\n",
    "plt.legend()\n",
    "plt.show()"
   ]
  },
  {
   "cell_type": "code",
   "execution_count": 17,
   "id": "2648582b",
   "metadata": {},
   "outputs": [
    {
     "data": {
      "text/plain": [
       "[0.39865872263908386,\n",
       " 0.4679582715034485,\n",
       " 0.5275707840919495,\n",
       " 0.5976154804229736,\n",
       " 0.626676619052887,\n",
       " 0.628912091255188,\n",
       " 0.6430700421333313,\n",
       " 0.6818181872367859,\n",
       " 0.7064083218574524,\n",
       " 0.7257823944091797,\n",
       " 0.7302533388137817,\n",
       " 0.7205663323402405,\n",
       " 0.7406855225563049,\n",
       " 0.7514880895614624,\n",
       " 0.7481371164321899,\n",
       " 0.7511177062988281,\n",
       " 0.745156466960907,\n",
       " 0.749627411365509,\n",
       " 0.7615499496459961,\n",
       " 0.7600595951080322,\n",
       " 0.7563338279724121,\n",
       " 0.7552083134651184,\n",
       " 0.7578241229057312,\n",
       " 0.7555886507034302,\n",
       " 0.7786885499954224,\n",
       " 0.7704917788505554,\n",
       " 0.7712369561195374,\n",
       " 0.7622950673103333,\n",
       " 0.7697466611862183,\n",
       " 0.7757079005241394,\n",
       " 0.7861400842666626]"
      ]
     },
     "execution_count": 17,
     "metadata": {},
     "output_type": "execute_result"
    }
   ],
   "source": [
    "history.history['accuracy']"
   ]
  },
  {
   "cell_type": "code",
   "execution_count": 18,
   "id": "26fae4a9",
   "metadata": {},
   "outputs": [
    {
     "name": "stdout",
     "output_type": "stream",
     "text": [
      "Epoch 1/20\n",
      "42/42 [==============================] - 5s 104ms/step - loss: 0.5682 - accuracy: 0.7735 - val_loss: 0.1783 - val_accuracy: 0.9609 - lr: 0.0010\n",
      "Epoch 2/20\n",
      "42/42 [==============================] - 4s 96ms/step - loss: 0.5979 - accuracy: 0.7653 - val_loss: 0.1783 - val_accuracy: 0.9609 - lr: 0.0010\n",
      "Epoch 3/20\n",
      "42/42 [==============================] - 4s 97ms/step - loss: 0.5786 - accuracy: 0.7630 - val_loss: 0.1783 - val_accuracy: 0.9609 - lr: 0.0010\n",
      "Epoch 4/20\n",
      "42/42 [==============================] - 4s 101ms/step - loss: 0.5566 - accuracy: 0.7705 - val_loss: 0.1783 - val_accuracy: 0.9609 - lr: 0.0010\n",
      "Epoch 5/20\n",
      "42/42 [==============================] - 4s 98ms/step - loss: 0.5849 - accuracy: 0.7683 - val_loss: 0.1783 - val_accuracy: 0.9609 - lr: 5.0000e-04\n",
      "Epoch 6/20\n",
      "42/42 [==============================] - 4s 99ms/step - loss: 0.5692 - accuracy: 0.7802 - val_loss: 0.1783 - val_accuracy: 0.9609 - lr: 5.0000e-04\n"
     ]
    }
   ],
   "source": [
    "from keras.models import load_model\n",
    "\n",
    "\n",
    "pretrained_model = load_model('modelnew_keras.h5')\n",
    "\n",
    "\n",
    "for layer in pretrained_model.layers:\n",
    "    layer.trainable = False\n",
    "\n",
    "pretrained_model.compile(optimizer='adam', loss='categorical_crossentropy', metrics=['accuracy'])\n",
    "\n",
    "history = pretrained_model.fit(\n",
    "    train_generator,\n",
    "    steps_per_epoch=len(X_train) // batch_size,\n",
    "    epochs=20,\n",
    "    validation_data=val_generator,\n",
    "    validation_steps=len(X_val) // batch_size,\n",
    "    callbacks=[early_stopping, reduce_lr]\n",
    ")\n"
   ]
  },
  {
   "cell_type": "code",
   "execution_count": 19,
   "id": "6a92ce3c",
   "metadata": {},
   "outputs": [
    {
     "data": {
      "image/png": "[encoded data removed]",
      "text/plain": [
       "<Figure size 640x480 with 1 Axes>"
      ]
     },
     "metadata": {},
     "output_type": "display_data"
    }
   ],
   "source": [
    "plt.plot(history.history['accuracy'], label='Training Accuracy')\n",
    "plt.plot(history.history['val_accuracy'], label='Validation Accuracy')\n",
    "plt.title('Training and Validation Accuracy')\n",
    "plt.xlabel('Epoch')\n",
    "plt.ylabel('Accuracy')\n",
    "plt.legend()\n",
    "plt.show()"
   ]
  },
  {
   "cell_type": "code",
   "execution_count": null,
   "id": "d2b1d6f2",
   "metadata": {},
   "outputs": [],
   "source": []
  }
 ],
 "metadata": {
  "kernelspec": {
   "display_name": "Python 3 (ipykernel)",
   "language": "python",
   "name": "python3"
  },
  "language_info": {
   "codemirror_mode": {
    "name": "ipython",
    "version": 3
   },
   "file_extension": ".py",
   "mimetype": "text/x-python",
   "name": "python",
   "nbconvert_exporter": "python",
   "pygments_lexer": "ipython3",
   "version": "3.11.4"
  }
 },
 "nbformat": 4,
 "nbformat_minor": 5
}
